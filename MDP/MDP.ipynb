{
 "cells": [
  {
   "cell_type": "markdown",
   "id": "ef5236c5",
   "metadata": {
    "id": "ef5236c5"
   },
   "source": [
    "We first import necessary packages."
   ]
  },
  {
   "cell_type": "code",
   "execution_count": 1,
   "id": "82354b10",
   "metadata": {
    "id": "82354b10"
   },
   "outputs": [
    {
     "name": "stdout",
     "output_type": "stream",
     "text": [
      "Requirement already satisfied: gymnasium==0.29.0 in ./anaconda3/lib/python3.11/site-packages (0.29.0)\n",
      "Requirement already satisfied: numpy>=1.21.0 in ./anaconda3/lib/python3.11/site-packages (from gymnasium==0.29.0) (1.24.3)\n",
      "Requirement already satisfied: cloudpickle>=1.2.0 in ./anaconda3/lib/python3.11/site-packages (from gymnasium==0.29.0) (2.2.1)\n",
      "Requirement already satisfied: typing-extensions>=4.3.0 in ./anaconda3/lib/python3.11/site-packages (from gymnasium==0.29.0) (4.7.1)\n",
      "Requirement already satisfied: farama-notifications>=0.0.1 in ./anaconda3/lib/python3.11/site-packages (from gymnasium==0.29.0) (0.0.4)\n"
     ]
    }
   ],
   "source": [
    "!pip install gymnasium==0.29.0"
   ]
  },
  {
   "cell_type": "code",
   "execution_count": 2,
   "id": "9808a557",
   "metadata": {
    "id": "9808a557"
   },
   "outputs": [
    {
     "name": "stdout",
     "output_type": "stream",
     "text": [
      "Requirement already satisfied: pygame in ./anaconda3/lib/python3.11/site-packages (2.5.2)\r\n"
     ]
    }
   ],
   "source": [
    "import numpy as np\n",
    "from numpy.testing import assert_almost_equal\n",
    "from numpy.testing import assert_equal\n",
    "!pip install pygame\n",
    "\n",
    "import gymnasium as gym\n",
    "\n",
    "import pprint\n",
    "import matplotlib.pyplot as plt"
   ]
  },
  {
   "cell_type": "markdown",
   "id": "cf420110",
   "metadata": {
    "id": "cf420110"
   },
   "source": [
    "# Frozen Lake MDP\n",
    "Next, we instantiate the [Frozen Lake](https://gymnasium.farama.org/environments/toy_text/frozen_lake/) environment from OpenAI Gymnasium and gain a quick understanding of its key variables and methods.\n",
    "\n",
    "Frozen lake involves crossing a frozen lake from Start(S) to Goal(G) without falling into any Holes(H) by walking over the Frozen(F) lake. The agent may not always move in the intended direction due to the slippery nature of the frozen lake.\n",
    "\n",
    "Follow the hyperlinks to learn more about the envionment [Frozen Lake](https://gymnasium.farama.org/environments/toy_text/frozen_lake/) and its [source code](https://github.com/Farama-Foundation/Gymnasium/blob/main/gymnasium/envs/toy_text/frozen_lake.py). Here is a version of the Frozen Lake environment where the frozen lake is a grid of size 4x4."
   ]
  },
  {
   "cell_type": "markdown",
   "id": "a8d253f9",
   "metadata": {
    "id": "a8d253f9"
   },
   "source": [
    "![FrozenLakeGif](https://www.gymlibrary.dev/_images/frozen_lake.gif)"
   ]
  },
  {
   "cell_type": "code",
   "execution_count": 3,
   "id": "320b0493",
   "metadata": {
    "id": "320b0493"
   },
   "outputs": [],
   "source": [
    "env = gym.make(\"FrozenLake-v1\", is_slippery=True)"
   ]
  },
  {
   "cell_type": "code",
   "execution_count": 4,
   "id": "be3d70cc",
   "metadata": {
    "id": "be3d70cc",
    "scrolled": true
   },
   "outputs": [
    {
     "name": "stdout",
     "output_type": "stream",
     "text": [
      "Map:\n",
      "[['S' 'F' 'F' 'F']\n",
      " ['F' 'H' 'F' 'H']\n",
      " ['F' 'F' 'F' 'H']\n",
      " ['H' 'F' 'F' 'G']]\n"
     ]
    }
   ],
   "source": [
    "print(\"Map:\")\n",
    "print(env.unwrapped.desc.astype('U'))"
   ]
  },
  {
   "cell_type": "markdown",
   "id": "72cdd9d4",
   "metadata": {
    "id": "72cdd9d4"
   },
   "source": [
    "#### States\n",
    "\n",
    "OpenAI Gymnasium environments do not explicitly provide state but instead provide observation. In the Frozen Lake environment, the state and observation are identical. The state denotes the position of the agent."
   ]
  },
  {
   "cell_type": "code",
   "execution_count": 5,
   "id": "d4cf421d",
   "metadata": {
    "id": "d4cf421d"
   },
   "outputs": [
    {
     "name": "stdout",
     "output_type": "stream",
     "text": [
      "Number of states: 16\n"
     ]
    }
   ],
   "source": [
    "print(f\"Number of states: {env.observation_space.n}\")"
   ]
  },
  {
   "cell_type": "markdown",
   "id": "9e50dab3",
   "metadata": {
    "id": "9e50dab3"
   },
   "source": [
    "#### Actions"
   ]
  },
  {
   "cell_type": "code",
   "execution_count": 6,
   "id": "7a16901d",
   "metadata": {
    "id": "7a16901d"
   },
   "outputs": [
    {
     "name": "stdout",
     "output_type": "stream",
     "text": [
      "Number of actions: 4\n"
     ]
    }
   ],
   "source": [
    "print(f\"Number of actions: {env.action_space.n}\")"
   ]
  },
  {
   "cell_type": "markdown",
   "id": "9af3c38b",
   "metadata": {
    "id": "9af3c38b"
   },
   "source": [
    "#### Transition and Reward Function\n",
    "\n",
    "The transition and rewards functions for Frozen Lake environment is represented in a different format than the one we have seen in the class. They are represented as a unified nested dictionary (P) of the format:\n",
    "\n",
    "`{state: {action:\n",
    "    list of (probability, next state, next reward, is terminal)}}.`\n",
    "\n",
    "Let us first inspect this dictionary."
   ]
  },
  {
   "cell_type": "code",
   "execution_count": 7,
   "id": "hErmu37QLZR8",
   "metadata": {
    "id": "hErmu37QLZR8"
   },
   "outputs": [
    {
     "name": "stdout",
     "output_type": "stream",
     "text": [
      "Transition and Reward functions for state=0 and action=0:\n",
      "[(0.3333333333333333, 0, 0.0, False),\n",
      " (0.3333333333333333, 0, 0.0, False),\n",
      " (0.3333333333333333, 4, 0.0, False)]\n"
     ]
    }
   ],
   "source": [
    "print(f\"Transition and Reward functions for state=0 and action=0:\")\n",
    "pprint.pprint(env.unwrapped.P[0][0])"
   ]
  },
  {
   "cell_type": "markdown",
   "id": "03e63cd9",
   "metadata": {
    "id": "03e63cd9"
   },
   "source": [
    "Now, we will convert it to the format seen in the class."
   ]
  },
  {
   "cell_type": "code",
   "execution_count": 8,
   "id": "1a0121df",
   "metadata": {
    "id": "1a0121df"
   },
   "outputs": [],
   "source": [
    "def get_mdp_parameters(env):\n",
    "    \"\"\"Helper method to retrieve MDP parameters.\n",
    "\n",
    "    Args:\n",
    "        env: Instance of the Frozen Lake MDP environment.\n",
    "\n",
    "    Returns:\n",
    "        num_states: Int, number of states.\n",
    "        num_actions: Int, number of actions.\n",
    "        transition_fn: A numpy ndarray of shape (num_states, num_actions, num_states)\n",
    "            denoting the transition probabilities, T(s, a, s')\n",
    "        reward_fn: A numpy ndarray of shape (num_states, num_actions, num_states)\n",
    "            denoting the reward of R(s, a, s').\n",
    "    \"\"\"\n",
    "    # Number of states and actions\n",
    "    num_states = env.observation_space.n\n",
    "    num_actions = env.action_space.n\n",
    "\n",
    "    # Helper variable: mapping from state to grid type\n",
    "    flattened_map = env.unwrapped.desc.flatten()\n",
    "\n",
    "    # Initialize Transition and Reward functions\n",
    "    transition_fn = np.zeros(\n",
    "        shape=(num_states, num_actions, num_states))\n",
    "    reward_fn = np.zeros(\n",
    "        shape=(num_states, num_actions, num_states))\n",
    "\n",
    "    # Fill Transition and Reward functions\n",
    "    for s in range(num_states):\n",
    "        terminal = flattened_map[s] in [b\"H\", b\"G\"]\n",
    "        for a in range(num_actions):\n",
    "            if s is terminal:\n",
    "                transition_fn[s, a, s] = 1.\n",
    "                continue\n",
    "            for prob_next_s, next_s, r, _ in env.unwrapped.P[s][a]:\n",
    "                transition_fn[s, a, next_s] += prob_next_s\n",
    "                reward_fn[s, a, next_s] = r\n",
    "\n",
    "\n",
    "    # Ensure Transition function is indeed a probability distribution\n",
    "    for s in range(num_states):\n",
    "        for a in range(num_actions):\n",
    "            assert_almost_equal(transition_fn[s,a].sum(), 1., decimal=7)\n",
    "\n",
    "    # Return as a tuple\n",
    "    return (num_states, num_actions, transition_fn, reward_fn)"
   ]
  },
  {
   "cell_type": "code",
   "execution_count": 9,
   "id": "f05cf0b5",
   "metadata": {
    "id": "f05cf0b5"
   },
   "outputs": [],
   "source": [
    "num_states, num_actions, transition_fn, reward_fn = get_mdp_parameters(env)"
   ]
  },
  {
   "cell_type": "markdown",
   "id": "52487802",
   "metadata": {
    "id": "52487802"
   },
   "source": [
    "# Point 1.2\n",
    "\n",
    "Next, we will write a program to compute the V-value of a given policy. See the starter code below and complete the missing parts. You can check your code using the tests below."
   ]
  },
  {
   "cell_type": "code",
   "execution_count": 10,
   "id": "6ca41e7d",
   "metadata": {
    "id": "6ca41e7d"
   },
   "outputs": [],
   "source": [
    "def policy_evaluation_v(policy, transition_fn, reward_fn, gamma=0.99, theta=1e-6):\n",
    "    \"\"\"Implements the policy evaluation algorithm to compute V values.\n",
    "\n",
    "    Args:\n",
    "        policy: A numpy ndarray of shape (num_states, num_actions) denoting\n",
    "            the probability of selecting an action (a) in a given state (s).\n",
    "        transition_fn: A numpy ndarray of shape (num_states, num_actions, num_states)\n",
    "            denoting the transition probabilities, T(s, a, s')\n",
    "        reward_fn: A numpy ndarray of shape (num_states, num_actions, num_states)\n",
    "            denoting the reward of R(s, a, s').\n",
    "        gamma: Discount factor.\n",
    "        theta: Threshold for terminating policy evaluation.\n",
    "\n",
    "    Returns:\n",
    "        v_value: A numpy array of shape (num_states) denoting the value\n",
    "            of state (s) for the given policy.\n",
    "    \"\"\"\n",
    "    # Ensure input dimensions are consistent.\n",
    "    num_states, num_actions, _ = transition_fn.shape\n",
    "    assert_equal(num_states, transition_fn.shape[2])\n",
    "    assert_equal(reward_fn.shape, transition_fn.shape)\n",
    "    assert_equal(policy.shape, (num_states, num_actions))\n",
    "\n",
    "    # Initialize value\n",
    "    v_value = np.zeros(shape=(num_states, ))\n",
    "\n",
    "    # Evaluate value\n",
    "    while True:\n",
    "        delta = 0\n",
    "        for s in range(num_states):\n",
    "            v_valuee = v_value[s]\n",
    "            v_new_value = 0\n",
    "            for a in range(num_actions):\n",
    "                action_value = 0\n",
    "                for s_prime in range(num_states):\n",
    "                    action_value += transition_fn[s, a, s_prime] * (reward_fn[s, a, s_prime] + gamma * v_value[s_prime])\n",
    "                v_new_value += policy[s, a] * action_value\n",
    "            v_value[s] = v_new_value\n",
    "            delta = max(delta, abs(v_valuee - v_new_value))\n",
    "\n",
    "        if delta < theta:\n",
    "            break\n",
    "\n",
    "    return v_value"
   ]
  },
  {
   "cell_type": "markdown",
   "id": "e99b3f96",
   "metadata": {
    "id": "e99b3f96"
   },
   "source": [
    "#### Test Code\n",
    "You can use the test code to check and develop your solution."
   ]
  },
  {
   "cell_type": "code",
   "execution_count": 11,
   "id": "e5b5bc56",
   "metadata": {
    "id": "e5b5bc56"
   },
   "outputs": [],
   "source": [
    "def test_policy_evaluation_v(test_policy, test_v_value, transition_fn, reward_fn, test_policy_name):\n",
    "    \"\"\"Test code for policy evaluation of V values.\"\"\"\n",
    "    v_value = policy_evaluation_v(test_policy, transition_fn, reward_fn)\n",
    "    try:\n",
    "        assert_almost_equal(v_value, test_v_value, decimal=2)\n",
    "    except AssertionError:\n",
    "        print(\"The V value of \" + test_policy_name + \" is incorrect.\")\n",
    "    else:\n",
    "        print(\"The V value of \" + test_policy_name + \" is correct to at least 2 decimal values.\")"
   ]
  },
  {
   "cell_type": "code",
   "execution_count": 12,
   "id": "a873941d",
   "metadata": {
    "id": "a873941d"
   },
   "outputs": [
    {
     "name": "stdout",
     "output_type": "stream",
     "text": [
      "The V value of policy A is correct to at least 2 decimal values.\n"
     ]
    }
   ],
   "source": [
    "a_test_policy = np.full(fill_value=1. / num_actions, shape=(num_states, num_actions))\n",
    "a_test_v_value = np.array(\n",
    "        [0.01235356, 0.01042298, 0.01933735, 0.00947697,\n",
    "         0.01478582, 0.        , 0.03889412, 0.        ,\n",
    "         0.0326019 , 0.08433739, 0.13781067, 0.        ,\n",
    "         0.        , 0.17034467, 0.43357932, 0.        ])\n",
    "test_policy_evaluation_v(a_test_policy, a_test_v_value, transition_fn, reward_fn, \"policy A\")"
   ]
  },
  {
   "cell_type": "code",
   "execution_count": 13,
   "id": "c8d53c12",
   "metadata": {
    "id": "c8d53c12"
   },
   "outputs": [
    {
     "name": "stdout",
     "output_type": "stream",
     "text": [
      "The V value of policy B is correct to at least 2 decimal values.\n"
     ]
    }
   ],
   "source": [
    "b_test_policy  = np.zeros(shape=(num_states, num_actions))\n",
    "b_test_policy[:,2] = 1.\n",
    "b_test_v_value = np.array(\n",
    "        [0.02883834, 0.02218502, 0.04504254, 0.        ,\n",
    "         0.03636706, 0.        , 0.09145015, 0.        ,\n",
    "         0.0813651 , 0.21019397, 0.23207916, 0.        ,\n",
    "         0.        , 0.40487249, 0.61182007, 0.        ])\n",
    "test_policy_evaluation_v(b_test_policy, b_test_v_value, transition_fn, reward_fn, \"policy B\")"
   ]
  },
  {
   "cell_type": "code",
   "execution_count": 14,
   "id": "90469e4c",
   "metadata": {
    "id": "90469e4c"
   },
   "outputs": [
    {
     "name": "stdout",
     "output_type": "stream",
     "text": [
      "The V value of policy C is correct to at least 2 decimal values.\n"
     ]
    }
   ],
   "source": [
    "c_test_policy  = np.zeros(shape=(num_states, num_actions))\n",
    "c_test_policy[:,0] = 1.\n",
    "c_test_v_value = np.zeros(shape=(num_states, ))\n",
    "test_policy_evaluation_v(c_test_policy, c_test_v_value, transition_fn, reward_fn, \"policy C\")"
   ]
  },
  {
   "cell_type": "code",
   "execution_count": 15,
   "id": "5aa85313",
   "metadata": {
    "id": "5aa85313"
   },
   "outputs": [
    {
     "name": "stdout",
     "output_type": "stream",
     "text": [
      "The V value of policy A is correct to at least 2 decimal values.\n",
      "The V value of policy B is correct to at least 2 decimal values.\n",
      "The V value of policy C is correct to at least 2 decimal values.\n"
     ]
    }
   ],
   "source": [
    "test_policy_evaluation_v(a_test_policy, a_test_v_value, transition_fn, reward_fn, \"policy A\")\n",
    "test_policy_evaluation_v(b_test_policy, b_test_v_value, transition_fn, reward_fn, \"policy B\")\n",
    "test_policy_evaluation_v(c_test_policy, c_test_v_value, transition_fn, reward_fn, \"policy C\")"
   ]
  },
  {
   "cell_type": "code",
   "execution_count": 16,
   "id": "77e3ef0c",
   "metadata": {
    "id": "77e3ef0c"
   },
   "outputs": [
    {
     "data": {
      "image/png": "[encoded data removed]",
      "text/plain": [
       "<Figure size 1000x1000 with 1 Axes>"
      ]
     },
     "metadata": {},
     "output_type": "display_data"
    }
   ],
   "source": [
    "def plot_grader_v_value():\n",
    "    grader_policy = np.zeros(shape=(num_states, num_actions))\n",
    "    grader_policy[ 0:12, 1] = 1.\n",
    "    grader_policy[12:16, 2] = 1.\n",
    "    grader_v_value = policy_evaluation_v(grader_policy, transition_fn, reward_fn)\n",
    "\n",
    "    fig, ax = plt.subplots()\n",
    "    im = ax.imshow(grader_v_value.reshape((1, num_states)), cmap=\"viridis\")\n",
    "\n",
    "    ax.set_xticks(np.arange(num_states))\n",
    "\n",
    "    for s in range(num_states):\n",
    "        text = ax.text(s, 0, round(grader_v_value[s],3), ha=\"center\", va=\"center\", color=\"w\", fontsize=10)\n",
    "\n",
    "    ax.set_title('V Value of Grader Policy')\n",
    "    fig.set_size_inches(10., 10.)\n",
    "    fig.tight_layout()\n",
    "    plt.xlabel('State')\n",
    "    plt.ylabel('Value')\n",
    "    plt.show()\n",
    "\n",
    "plot_grader_v_value()"
   ]
  },
  {
   "cell_type": "markdown",
   "id": "bfe9de96",
   "metadata": {
    "id": "bfe9de96"
   },
   "source": [
    "# Point 1.3\n",
    "\n",
    "Next, we will write a program to compute the q value of a policy."
   ]
  },
  {
   "cell_type": "code",
   "execution_count": 17,
   "id": "af355f7b",
   "metadata": {
    "id": "af355f7b"
   },
   "outputs": [],
   "source": [
    "def policy_evaluation_q(policy, transition_fn, reward_fn, gamma=0.99, theta=1e-6):\n",
    "    \"\"\"Implements the policy evaluation algorithm to compute Q values.\n",
    "\n",
    "    Args:\n",
    "        policy: A numpy ndarray of shape (num_states, num_actions) denoting\n",
    "            the probability of selecting an action (a) in a given state (s).\n",
    "        transition_fn: A numpy ndarray of shape (num_states, num_actions, num_states)\n",
    "            denoting the transition probabilities, T(s, a, s')\n",
    "        reward_fn: A numpy ndarray of shape (num_states, num_actions, num_states)\n",
    "            denoting the reward of R(s, a, s').\n",
    "        gamma: Discount factor.\n",
    "        theta: Threshold for terminating policy evaluation.\n",
    "\n",
    "    Returns:\n",
    "        q_value: A numpy ndarray of shape (num_states, num_actions) denoting the value\n",
    "            of state (s) for the given policy.\n",
    "    \"\"\"\n",
    "    # Ensure input dimensions are consistent.\n",
    "    num_states, num_actions, _ = transition_fn.shape\n",
    "    assert_equal(num_states, transition_fn.shape[2])\n",
    "    assert_equal(reward_fn.shape, transition_fn.shape)\n",
    "    assert_equal(policy.shape, (num_states, num_actions))\n",
    "\n",
    "    # Initialize value\n",
    "    q_value = np.zeros(shape=(num_states, num_actions))\n",
    "\n",
    "    # First, we compute V value\n",
    "    v_value = policy_evaluation_v(policy,\n",
    "                                  transition_fn,\n",
    "                                  reward_fn,\n",
    "                                  gamma,\n",
    "                                  theta)\n",
    "\n",
    "    # Then, we use the relation between V and Q to obtain Q value.\n",
    "    for s in range(num_states):\n",
    "        for a in range(num_actions):\n",
    "            action_value = 0\n",
    "            for s_prime in range(num_states):\n",
    "                q_value[s, a] += transition_fn[s, a, s_prime] * (reward_fn[s, a, s_prime] + gamma * v_value[s_prime])\n",
    "\n",
    "    return q_value"
   ]
  },
  {
   "cell_type": "markdown",
   "id": "77ece783",
   "metadata": {
    "id": "77ece783"
   },
   "source": [
    "#### Test Code\n",
    "You can use the test code to check and develop your solution."
   ]
  },
  {
   "cell_type": "code",
   "execution_count": 18,
   "id": "b0254221",
   "metadata": {
    "id": "b0254221"
   },
   "outputs": [],
   "source": [
    "def test_policy_evaluation_q(test_policy, test_q_value, transition_fn, reward_fn, test_policy_name):\n",
    "    \"\"\"Test code for policy evaluation of Q values.\"\"\"\n",
    "    q_value = policy_evaluation_q(test_policy, transition_fn, reward_fn)\n",
    "    try:\n",
    "        assert_almost_equal(q_value, test_q_value, decimal=2)\n",
    "    except AssertionError:\n",
    "        print(\"The Q value of \" + test_policy_name + \" is incorrect.\")\n",
    "    else:\n",
    "        print(\"The Q value of \" + test_policy_name + \" is correct to at least 2 decimal values.\")"
   ]
  },
  {
   "cell_type": "code",
   "execution_count": 19,
   "id": "047a79e5",
   "metadata": {
    "id": "047a79e5"
   },
   "outputs": [
    {
     "name": "stdout",
     "output_type": "stream",
     "text": [
      "The Q value of policy A is correct to at least 2 decimal values.\n"
     ]
    }
   ],
   "source": [
    "a_test_policy = np.full(fill_value=1. / num_actions, shape=(num_states, num_actions))\n",
    "a_test_q_value = np.array(\n",
    "      [[0.01303267, 0.01239558, 0.01239558, 0.01159293],\n",
    "       [0.00751626, 0.010458  , 0.00982091, 0.01389758],\n",
    "       [0.02265597, 0.01940204, 0.02234378, 0.01294831],\n",
    "       [0.00950873, 0.00950873, 0.0062548 , 0.01263612],\n",
    "       [0.01971462, 0.01563795, 0.0148353 , 0.00895599],\n",
    "       [0.        , 0.        , 0.        , 0.        ],\n",
    "       [0.05185885, 0.04547752, 0.05185885, 0.00638133],\n",
    "       [0.        , 0.        , 0.        , 0.        ],\n",
    "       [0.01563795, 0.03858996, 0.03271066, 0.04346928],\n",
    "       [0.06697237, 0.11244989, 0.10169126, 0.05623615],\n",
    "       [0.18374757, 0.17091251, 0.15591623, 0.0406664 ],\n",
    "       [0.        , 0.        , 0.        , 0.        ],\n",
    "       [0.        , 0.        , 0.        , 0.        ],\n",
    "       [0.08404508, 0.19929491, 0.22712625, 0.17091251],\n",
    "       [0.24477244, 0.53262825, 0.52189203, 0.43502459],\n",
    "       [0.        , 0.        , 0.        , 0.        ]])\n",
    "test_policy_evaluation_q(a_test_policy, a_test_q_value, transition_fn, reward_fn, \"policy A\")"
   ]
  },
  {
   "cell_type": "code",
   "execution_count": 20,
   "id": "72f3e9a5",
   "metadata": {
    "id": "72f3e9a5"
   },
   "outputs": [
    {
     "name": "stdout",
     "output_type": "stream",
     "text": [
      "The Q value of policy B is correct to at least 2 decimal values.\n"
     ]
    }
   ],
   "source": [
    "b_test_policy  = np.zeros(shape=(num_states, num_actions))\n",
    "b_test_policy[:,2] = 1.\n",
    "b_test_q_value = np.array(\n",
    "       [[0.03103443, 0.02883884, 0.02883884, 0.02635436],\n",
    "        [0.01683771, 0.02438069, 0.02218509, 0.03170175],\n",
    "        [0.05236364, 0.03749961, 0.04504259, 0.02218509],\n",
    "        [0.01486404, 0.01486404, 0.        , 0.01486404],\n",
    "        [0.04836826, 0.03885161, 0.03636713, 0.02151778],\n",
    "        [0.        , 0.        , 0.        , 0.        ],\n",
    "        [0.09145016, 0.07658612, 0.09145016, 0.01486404],\n",
    "        [0.        , 0.        , 0.        , 0.        ],\n",
    "        [0.03885161, 0.09621449, 0.08136514, 0.10821562],\n",
    "        [0.1604584 , 0.23704453, 0.21019404, 0.1034366 ],\n",
    "        [0.30144318, 0.27126463, 0.23207917, 0.09954256],\n",
    "        [0.        , 0.        , 0.        , 0.        ],\n",
    "        [0.        , 0.        , 0.        , 0.        ],\n",
    "        [0.20297193, 0.33550854, 0.40487255, 0.27126463],\n",
    "        [0.41209467, 0.66884188, 0.61182008, 0.54352738],\n",
    "        [0.        , 0.        , 0.        , 0.        ]])\n",
    "test_policy_evaluation_q(b_test_policy, b_test_q_value, transition_fn, reward_fn, \"policy B\")"
   ]
  },
  {
   "cell_type": "code",
   "execution_count": 21,
   "id": "e593f2fc",
   "metadata": {
    "id": "e593f2fc"
   },
   "outputs": [
    {
     "name": "stdout",
     "output_type": "stream",
     "text": [
      "The Q value of policy C is correct to at least 2 decimal values.\n"
     ]
    }
   ],
   "source": [
    "c_test_policy  = np.zeros(shape=(num_states, num_actions))\n",
    "c_test_policy[:,1] = 0.\n",
    "c_test_q_value = np.zeros(shape=(num_states, num_actions))\n",
    "c_test_q_value[14,1:4] = 1./3.\n",
    "test_policy_evaluation_q(c_test_policy, c_test_q_value, transition_fn, reward_fn, \"policy C\")"
   ]
  },
  {
   "cell_type": "code",
   "execution_count": 22,
   "id": "9cb7b31b",
   "metadata": {
    "id": "9cb7b31b"
   },
   "outputs": [
    {
     "name": "stdout",
     "output_type": "stream",
     "text": [
      "The Q value of policy A is correct to at least 2 decimal values.\n",
      "The Q value of policy B is correct to at least 2 decimal values.\n",
      "The Q value of policy C is correct to at least 2 decimal values.\n"
     ]
    }
   ],
   "source": [
    "test_policy_evaluation_q(a_test_policy, a_test_q_value, transition_fn, reward_fn, \"policy A\")\n",
    "test_policy_evaluation_q(b_test_policy, b_test_q_value, transition_fn, reward_fn, \"policy B\")\n",
    "test_policy_evaluation_q(c_test_policy, c_test_q_value, transition_fn, reward_fn, \"policy C\")"
   ]
  },
  {
   "cell_type": "code",
   "execution_count": 23,
   "id": "6fd0b9fa",
   "metadata": {
    "id": "6fd0b9fa"
   },
   "outputs": [
    {
     "data": {
      "image/png": "[encoded data removed]",
      "text/plain": [
       "<Figure size 1000x1000 with 1 Axes>"
      ]
     },
     "metadata": {},
     "output_type": "display_data"
    }
   ],
   "source": [
    "def plot_grader_q_value():\n",
    "    grader_policy = np.zeros(shape=(num_states, num_actions))\n",
    "    grader_policy[ 0:12, 1] = 1.\n",
    "    grader_policy[12:16, 2] = 1.\n",
    "    grader_q_value = policy_evaluation_q(grader_policy, transition_fn, reward_fn)\n",
    "\n",
    "    fig, ax = plt.subplots()\n",
    "    im = ax.imshow(grader_q_value.transpose(), cmap=\"viridis\")\n",
    "\n",
    "    ax.set_yticks(np.arange(num_actions))\n",
    "    ax.set_xticks(np.arange(num_states))\n",
    "\n",
    "    for s in range(num_states):\n",
    "        for a in range(num_actions):\n",
    "            text = ax.text(s, a, round(grader_q_value[s,a],3), ha=\"center\", va=\"center\", color=\"w\", fontsize=10)\n",
    "\n",
    "    ax.set_title('Q Value of Grader Policy')\n",
    "    fig.set_size_inches(10., 10.)\n",
    "    fig.tight_layout()\n",
    "    plt.xlabel('Action')\n",
    "    plt.ylabel('State')\n",
    "    plt.show()\n",
    "\n",
    "plot_grader_q_value()"
   ]
  },
  {
   "cell_type": "markdown",
   "id": "53145a97",
   "metadata": {
    "id": "53145a97"
   },
   "source": [
    "# Point 2.1\n",
    "\n",
    "In this problem, we will use the value iteration algorithm to compute the optimal policy."
   ]
  },
  {
   "cell_type": "code",
   "execution_count": 24,
   "id": "3785577e",
   "metadata": {
    "id": "3785577e"
   },
   "outputs": [],
   "source": [
    "def value_iteration(transition_fn, reward_fn, gamma=0.99, theta=1e-6):\n",
    "    \"\"\"Implements the value iteration algorithm.\n",
    "\n",
    "    Args:\n",
    "        transition_fn: A numpy ndarray of shape (num_states, num_actions, num_states)\n",
    "            denoting the transition probabilities, T(s, a, s')\n",
    "        reward_fn: A numpy ndarray of shape (num_states, num_actions, num_states)\n",
    "            denoting the reward of R(s, a, s').\n",
    "        gamma: Discount factor.\n",
    "        theta: Threshold for terminating policy evaluation.\n",
    "\n",
    "    Returns:\n",
    "        optimal_policy: A numpy ndarray of shape (num_states, num_actions) denoting\n",
    "            the probability of selecting an action (a) in a given state (s).\n",
    "        optimal_v_value: A numpy ndarray of shape (num_states, ) denoting\n",
    "            the optimal value of each state (s).\n",
    "    \"\"\"\n",
    "    # Ensure input dimensions are consistent.\n",
    "    num_states, num_actions, _ = transition_fn.shape\n",
    "    assert_equal(num_states, transition_fn.shape[2])\n",
    "    assert_equal(reward_fn.shape, transition_fn.shape)\n",
    "\n",
    "    # Initialize value\n",
    "    v_value = np.zeros(shape=(num_states, ))\n",
    "\n",
    "    # Perform value iteration to compute optimal V\n",
    "    num_iteration = 0\n",
    "    while True:\n",
    "        delta = 0\n",
    "        for s in range(num_states):\n",
    "            v_temp_value = v_value[s]\n",
    "            v_new_value = [0] * num_actions\n",
    "            for a in range(num_actions):\n",
    "                for s_prime in range(num_states):\n",
    "                    v_new_value[a] += transition_fn[s, a, s_prime] * (reward_fn[s, a, s_prime] + gamma * v_value[s_prime])\n",
    "            v_value[s] = max(v_new_value)\n",
    "            delta = max(delta, abs(v_value[s] - v_temp_value))\n",
    "        num_iteration += 1\n",
    "        if delta < theta:\n",
    "            break\n",
    "    optimal_v_value = v_value\n",
    "\n",
    "    # Compute optimal Q from optimal V\n",
    "    optimal_q_value = np.zeros(shape=(num_states, num_actions))\n",
    "    \n",
    "    for s in range(num_states):\n",
    "        for a in range(num_actions):\n",
    "            for s_prime in range(num_states):\n",
    "                optimal_q_value[s, a] += transition_fn[s, a, s_prime] * (reward_fn[s, a, s_prime] + gamma * v_value[s_prime])\n",
    "    \n",
    "\n",
    "    # Compute optimal policy from optimal Q\n",
    "    optimal_policy = np.zeros(shape=(num_states, num_actions))\n",
    "    for s in range(num_states):\n",
    "        optimal_action_in_s = optimal_q_value[s].argmax()\n",
    "        optimal_policy[s, optimal_action_in_s] = 1.\n",
    "\n",
    "    return (optimal_policy, optimal_v_value)"
   ]
  },
  {
   "cell_type": "markdown",
   "id": "a935a037",
   "metadata": {
    "id": "a935a037"
   },
   "source": [
    "#### Test Code\n",
    "You can use the test code to check and develop your solution."
   ]
  },
  {
   "cell_type": "code",
   "execution_count": 25,
   "id": "2c727098",
   "metadata": {
    "id": "2c727098"
   },
   "outputs": [],
   "source": [
    "def test_value_iteration(test_v_value, transition_fn, reward_fn, gamma):\n",
    "    \"\"\"Test code for value iteration.\"\"\"\n",
    "    _, optimal_v_value = value_iteration(transition_fn, reward_fn, gamma)\n",
    "    try:\n",
    "        assert_almost_equal(test_v_value, optimal_v_value, decimal=2)\n",
    "    except AssertionError:\n",
    "        print(\"The optimal V value for gamma = \" + str(gamma) + \" is incorrect.\")\n",
    "    else:\n",
    "        print(\"The optimal V value for gamma = \" + str(gamma) + \" is correct.\")\n"
   ]
  },
  {
   "cell_type": "code",
   "execution_count": 26,
   "id": "511daa20",
   "metadata": {
    "id": "511daa20"
   },
   "outputs": [
    {
     "name": "stdout",
     "output_type": "stream",
     "text": [
      "The optimal V value for gamma = 0.0 is correct.\n"
     ]
    }
   ],
   "source": [
    "test_v_value_for_gamma_000 = np.array(\n",
    "     [0.       ,0.       ,0.       ,0.      ,\n",
    "      0.       ,0.       ,0.       ,0.      ,\n",
    "      0.       ,0.       ,0.       ,0.      ,\n",
    "      0.       ,0.       ,0.333333 ,0.      ])\n",
    "test_value_iteration(test_v_value_for_gamma_000, transition_fn, reward_fn, gamma=0.0)"
   ]
  },
  {
   "cell_type": "code",
   "execution_count": 27,
   "id": "b88a7cee",
   "metadata": {
    "id": "b88a7cee"
   },
   "outputs": [
    {
     "name": "stdout",
     "output_type": "stream",
     "text": [
      "The optimal V value for gamma = 0.9 is correct.\n"
     ]
    }
   ],
   "source": [
    "test_v_value_for_gamma_090 = np.array(\n",
    "    [0.068886 ,0.061411 ,0.074408 ,0.055805,\n",
    "     0.091851 ,0.       ,0.112207 ,0.      ,\n",
    "     0.145434 ,0.247496 ,0.299617 ,0.      ,\n",
    "     0.       ,0.379935 ,0.63902  ,0.      ])\n",
    "test_value_iteration(test_v_value_for_gamma_090, transition_fn, reward_fn, gamma=0.9)"
   ]
  },
  {
   "cell_type": "markdown",
   "id": "ddf5e49c",
   "metadata": {
    "id": "ddf5e49c"
   },
   "source": [
    "A helper function to run and render a policy.\n",
    "Note: The rendering will not work on Google Colab."
   ]
  },
  {
   "cell_type": "code",
   "execution_count": 28,
   "id": "e7c90b0e",
   "metadata": {
    "id": "e7c90b0e"
   },
   "outputs": [],
   "source": [
    "def render_policy(policy):\n",
    "    \"\"\"Renders a policy for the Frozen Lake environment.\n",
    "\n",
    "    Args:\n",
    "        policy: A numpy ndarray of shape (num_states, num_actions) denoting\n",
    "            the probability of selecting an action (a) in a given state (s).\n",
    "\n",
    "    Returns:\n",
    "        None\n",
    "    \"\"\"\n",
    "    env = gym.make(\"FrozenLake-v1\", is_slippery=True, render_mode=\"human\")\n",
    "    assert_equal(policy.shape, (env.observation_space.n, env.action_space.n))\n",
    "    state, _ = env.reset()\n",
    "    while True:\n",
    "        action = policy[state].argmax()\n",
    "        next_state, _, is_terminal, _, _ = env.step(action)\n",
    "        if is_terminal:\n",
    "            env.close()\n",
    "            break\n",
    "        state = next_state"
   ]
  },
  {
   "cell_type": "code",
   "execution_count": 29,
   "id": "3b55c082",
   "metadata": {
    "id": "3b55c082"
   },
   "outputs": [],
   "source": [
    "optimal_policy, _ = value_iteration(transition_fn, reward_fn, gamma=0.99)\n",
    "try:\n",
    "    render_policy(optimal_policy)\n",
    "except Exception as e:\n",
    "    print(e)\n",
    "    print(\"Either your python runtime does not support rendering...\")\n",
    "    print(\"or your pygame installation is incorrect.\")"
   ]
  },
  {
   "cell_type": "code",
   "execution_count": 30,
   "id": "6369f278",
   "metadata": {
    "id": "6369f278"
   },
   "outputs": [
    {
     "name": "stdout",
     "output_type": "stream",
     "text": [
      "The optimal V value for gamma = 0.0 is correct.\n",
      "The optimal V value for gamma = 0.9 is correct.\n"
     ]
    }
   ],
   "source": [
    "test_value_iteration(test_v_value_for_gamma_000, transition_fn, reward_fn, gamma=0.0)\n",
    "test_value_iteration(test_v_value_for_gamma_090, transition_fn, reward_fn, gamma=0.9)"
   ]
  },
  {
   "cell_type": "code",
   "execution_count": 31,
   "id": "87c7830a",
   "metadata": {
    "id": "87c7830a"
   },
   "outputs": [
    {
     "data": {
      "image/png": "[encoded data removed]",
      "text/plain": [
       "<Figure size 1000x1000 with 1 Axes>"
      ]
     },
     "metadata": {},
     "output_type": "display_data"
    }
   ],
   "source": [
    "def plot_grader_value_iteration():\n",
    "    grader_optimal_policy, grader_optimal_v_value= value_iteration(transition_fn, reward_fn, gamma=0.99)\n",
    "\n",
    "    fig, ax = plt.subplots()\n",
    "    im = ax.imshow(grader_optimal_v_value.reshape((1, num_states)), cmap=\"viridis\")\n",
    "\n",
    "    ax.set_xticks(np.arange(num_states))\n",
    "\n",
    "    for s in range(num_states):\n",
    "        text = ax.text(s, 0, round(grader_optimal_v_value[s],3), ha=\"center\", va=\"center\", color=\"w\", fontsize=10)\n",
    "\n",
    "    ax.set_title('V Value of Optimal Policy')\n",
    "    fig.set_size_inches(10., 10.)\n",
    "    fig.tight_layout()\n",
    "    plt.xlabel('State')\n",
    "    plt.ylabel('Value')\n",
    "    plt.show()\n",
    "\n",
    "plot_grader_value_iteration()"
   ]
  },
  {
   "cell_type": "markdown",
   "id": "b707430d",
   "metadata": {
    "id": "b707430d"
   },
   "source": [
    "# Point 2.2\n",
    "\n",
    "Insert your code to generate the plots here."
   ]
  },
  {
   "cell_type": "code",
   "execution_count": 32,
   "id": "2397939b",
   "metadata": {
    "id": "2397939b"
   },
   "outputs": [
    {
     "data": {
      "image/png": "[encoded data removed]",
      "text/plain": [
       "<Figure size 640x480 with 1 Axes>"
      ]
     },
     "metadata": {},
     "output_type": "display_data"
    }
   ],
   "source": [
    "def value_iteration_tracking(transition_fn, reward_fn, gamma=0.99, theta=1e-6):\n",
    "    num_states, num_actions, _ = transition_fn.shape\n",
    "\n",
    "    v_value = [0] * num_states\n",
    "    prev_v_value = [0] * num_states\n",
    "\n",
    "    max_diff_prev = []\n",
    "    max_diff_final = []\n",
    "    v_values_per_iteration = []\n",
    "\n",
    "    while True:\n",
    "        max_difference = 0\n",
    "        for s in range(num_states):\n",
    "            v_prev = v_value[s]\n",
    "            v_temp = [0] * num_actions\n",
    "            for a in range(num_actions):\n",
    "                action_value = 0\n",
    "                for s_prime in range(num_states):\n",
    "                    v_temp[a] += transition_fn[s, a, s_prime] * (reward_fn[s, a, s_prime] + gamma * prev_v_value[s_prime])\n",
    "            v_value[s] = max(v_temp)\n",
    "            \n",
    "            # max_difference will get differnce between prev and V(s) in one time step\n",
    "            max_difference = max(max_difference, abs(v_value[s] - v_prev))\n",
    "        \n",
    "        max_diff_prev.append(max_difference)\n",
    "        \n",
    "        # collect all v values to v_values_per_iteration\n",
    "        v_values_per_iteration.append(v_value.copy())\n",
    "\n",
    "        if max_difference < theta:\n",
    "            break\n",
    "        \n",
    "        # Since v_value would change every time step, save to prev_v_value\n",
    "        prev_v_value = v_value.copy()\n",
    "\n",
    "    for iter_v in v_values_per_iteration:\n",
    "        iter_diff = []\n",
    "        for index in range(len(iter_v)):\n",
    "            iter_diff.append(abs(iter_v[index] - v_value[index]))\n",
    "        max_diff_final.append(max(iter_diff))\n",
    "\n",
    "    return max_diff_prev, max_diff_final\n",
    "\n",
    "def plot_differences(max_diff_prev, max_diff_final):\n",
    "    plt.plot(max_diff_prev, label='Difference within Previous Iteration')\n",
    "    plt.plot(max_diff_final, label='Difference within Final Iteration')\n",
    "    plt.xlabel('Iteration Number')\n",
    "    plt.ylabel('Max Difference')\n",
    "    plt.legend()\n",
    "    plt.show()\n",
    "\n",
    "# Assuming transition_fn and reward_fn are defined\n",
    "max_diff_prev, max_diff_final = value_iteration_tracking(transition_fn, reward_fn)\n",
    "plot_differences(max_diff_prev, max_diff_final)"
   ]
  },
  {
   "cell_type": "markdown",
   "id": "dcc71078",
   "metadata": {
    "id": "dcc71078"
   },
   "source": [
    "# Point 2.4\n",
    "\n",
    "Insert your code to generate the plots here."
   ]
  },
  {
   "cell_type": "code",
   "execution_count": 33,
   "id": "fb555d9c",
   "metadata": {
    "id": "fb555d9c"
   },
   "outputs": [
    {
     "data": {
      "image/png": "[encoded data removed]",
      "text/plain": [
       "<Figure size 640x480 with 1 Axes>"
      ]
     },
     "metadata": {},
     "output_type": "display_data"
    }
   ],
   "source": [
    "gammas = [0, 0.1, 0.2, 0.3, 0.4, 0.5, 0.6, 0.7, 0.8, 0.9, 0.95, 0.99]\n",
    "iterations_to_converge = []\n",
    "\n",
    "# Modify the function to count the number of iterations\n",
    "def count_iterations(transition_fn, reward_fn, gamma=0.99, theta=1e-6):\n",
    "  \n",
    "     # Initialize value\n",
    "    v_value = np.zeros(shape=(num_states, ))\n",
    "\n",
    "    # Perform value iteration to compute optimal V\n",
    "    num_iteration = 0\n",
    "    while True:\n",
    "        delta = 0\n",
    "        for s in range(num_states):\n",
    "            v_valuee = v_value[s]\n",
    "            v_new_value = [0] * num_actions\n",
    "            for a in range(num_actions):\n",
    "                for s_prime in range(num_states):\n",
    "                    v_new_value[a] += transition_fn[s, a, s_prime] * (reward_fn[s, a, s_prime] + gamma * v_value[s_prime])\n",
    "            v_value[s] = max(v_new_value)\n",
    "            delta = max(delta, abs(v_value[s] - v_valuee))\n",
    "        num_iteration += 1\n",
    "        if delta < theta:\n",
    "            break\n",
    "    \n",
    "    return num_iteration\n",
    "\n",
    "for gamma in gammas:\n",
    "    num_iterations = count_iterations(transition_fn, reward_fn, gamma)\n",
    "    iterations_to_converge.append(num_iterations)\n",
    "\n",
    "\n",
    "plt.plot(gammas, iterations_to_converge, marker='o')\n",
    "plt.xlabel('Discount Factor: Gammas')\n",
    "plt.ylabel('Number of Iterations to Converge')\n",
    "plt.title('Iterations vs. Discount Factor')\n",
    "plt.show()\n"
   ]
  },
  {
   "cell_type": "markdown",
   "id": "bf682ee7",
   "metadata": {
    "id": "bf682ee7"
   },
   "source": [
    "# Problem 2.5"
   ]
  },
  {
   "cell_type": "code",
   "execution_count": 34,
   "id": "4a99cb70",
   "metadata": {
    "id": "4a99cb70"
   },
   "outputs": [],
   "source": [
    "guess_policy = np.array(\n",
    "       [[1., 0., 0., 0.],\n",
    "        [0., 0., 0., 1.],\n",
    "        [1., 0., 0., 0.],\n",
    "        [0., 0., 0., 1.],\n",
    "        [1., 0., 0., 0.],\n",
    "        [1., 0., 0., 0.],\n",
    "        [1., 0., 0., 0.],\n",
    "        [1., 0., 0., 0.],\n",
    "        [0., 0., 0., 1.],\n",
    "        [0., 1., 0., 0.],\n",
    "        [1., 0., 0., 0.],\n",
    "        [1., 0., 0., 0.],\n",
    "        [1., 0., 0., 0.],\n",
    "        [0., 0., 1., 0.],\n",
    "        [0., 1., 0., 0.],\n",
    "        [1., 0., 0., 0.]])"
   ]
  },
  {
   "cell_type": "code",
   "execution_count": 35,
   "id": "db997933",
   "metadata": {
    "id": "db997933"
   },
   "outputs": [],
   "source": [
    "def value_iteration_with_guess_policy(transition_fn, reward_fn, gamma=0.99, theta=1e-6, guess_policy=None):\n",
    "    \"\"\"Implements the value iteration algorithm.\n",
    "\n",
    "    Args:\n",
    "        transition_fn: A numpy ndarray of shape (num_states, num_actions, num_states)\n",
    "            denoting the transition probabilities, T(s, a, s')\n",
    "        reward_fn: A numpy ndarray of shape (num_states, num_actions, num_states)\n",
    "            denoting the reward of R(s, a, s').\n",
    "        gamma: Discount factor.\n",
    "        theta: Threshold for terminating policy evaluation.\n",
    "        guess_policy: A numpy ndarray of shape (num_states, num_actions) denoting\n",
    "            the probability of selecting an action (a) in a given state (s).\n",
    "\n",
    "    Returns:\n",
    "        optimal_policy: A numpy ndarray of shape (num_states, num_actions) denoting\n",
    "            the probability of selecting an action (a) in a given state (s).\n",
    "        optimal_v_value: A numpy ndarray of shape (num_states, ) denoting\n",
    "            the optimal value of each state (s).\n",
    "    \"\"\"\n",
    "    # Ensure input dimensions are consistent.\n",
    "    num_states, num_actions, _ = transition_fn.shape\n",
    "    assert_equal(num_states, transition_fn.shape[2])\n",
    "    assert_equal(reward_fn.shape, transition_fn.shape)\n",
    "\n",
    "    # Initialize value using guess policy\n",
    "    if guess_policy is None:\n",
    "        v_value = np.zeros(shape=(num_states, ))\n",
    "    else:\n",
    "        v_value = np.zeros(shape=(num_states, ))\n",
    "        while True: \n",
    "            delta_guess = 0\n",
    "            for s in range(num_states):\n",
    "                v_temp = 0\n",
    "                for a in range(num_actions):\n",
    "                    for s_prime in range(num_states):\n",
    "                        v_temp += guess_policy[s, a] * transition_fn[s, a, s_prime] * (reward_fn[s, a, s_prime] + gamma * v_value[s_prime])\n",
    "                delta_guess = max(delta_guess, abs(v_value[s] - v_temp))\n",
    "                v_value[s] = v_temp\n",
    "            if delta_guess < theta:  \n",
    "                break\n",
    "\n",
    "\n",
    "    # Perform value iteration to compute optimal V\n",
    "    num_iteration = 0\n",
    "    while True:\n",
    "        delta = 0\n",
    "        for s in range(num_states):\n",
    "            v_valuee = v_value[s]\n",
    "            v_new_value = [0] * num_actions\n",
    "            for a in range(num_actions):\n",
    "                for s_prime in range(num_states):\n",
    "                    v_new_value[a] += transition_fn[s, a, s_prime] * (reward_fn[s, a, s_prime] + gamma * v_value[s_prime])\n",
    "            v_value[s] = max(v_new_value)\n",
    "            delta = max(delta, abs(v_value[s] - v_valuee))\n",
    "        num_iteration += 1\n",
    "        if delta < theta:\n",
    "            break\n",
    "    optimal_v_value = v_value\n",
    "    print(\"Number of iterations = \" + str(num_iteration))\n",
    "\n",
    "    # Compute optimal Q from optimal V\n",
    "    optimal_q_value = np.zeros(shape=(num_states, num_actions))\n",
    "    for s in range(num_states):\n",
    "        for a in range(num_actions):\n",
    "            for s_prime in range(num_states):\n",
    "                optimal_q_value[s, a] += transition_fn[s, a, s_prime] * (reward_fn[s, a, s_prime] + gamma * v_value[s_prime])\n",
    "\n",
    "    # Compute optimal policy from optimal Q\n",
    "    optimal_policy = np.zeros(shape=(num_states, num_actions))\n",
    "    for s in range(num_states):\n",
    "        optimal_action_in_s = optimal_q_value[s].argmax()\n",
    "        optimal_policy[s, optimal_action_in_s] = 1.\n",
    "\n",
    "    return (optimal_policy, optimal_v_value)"
   ]
  },
  {
   "cell_type": "markdown",
   "id": "80c03f57",
   "metadata": {
    "id": "80c03f57"
   },
   "source": [
    "#### Grader Code"
   ]
  },
  {
   "cell_type": "code",
   "execution_count": 36,
   "id": "071f0a2e",
   "metadata": {
    "id": "071f0a2e"
   },
   "outputs": [
    {
     "name": "stdout",
     "output_type": "stream",
     "text": [
      "Without guess policy: \n",
      "Number of iterations = 228\n",
      "With guess policy: \n",
      "Number of iterations = 155\n"
     ]
    }
   ],
   "source": [
    "print(\"Without guess policy: \")\n",
    "_ = value_iteration_with_guess_policy(transition_fn, reward_fn, gamma=0.99)\n",
    "\n",
    "print(\"With guess policy: \")\n",
    "_ = value_iteration_with_guess_policy(transition_fn, reward_fn, gamma=0.99, guess_policy=guess_policy)"
   ]
  },
  {
   "cell_type": "markdown",
   "id": "84c25daa",
   "metadata": {
    "id": "84c25daa"
   },
   "source": [
    "# Point 3.2\n",
    "\n",
    "In this problem, we will use the policy iteration algorithm to compute the optimal policy."
   ]
  },
  {
   "cell_type": "code",
   "execution_count": 37,
   "id": "eb821193",
   "metadata": {
    "id": "eb821193"
   },
   "outputs": [],
   "source": [
    "def policy_iteration(transition_fn, reward_fn, gamma=0.99, theta=1e-6):\n",
    "   \n",
    "    \"\"\"Implements the policy iteration algorithm.\n",
    "\n",
    "    Args:\n",
    "        transition_fn: A numpy ndarray of shape (num_states, num_actions, num_states)\n",
    "            denoting the transition probabilities, T(s, a, s')\n",
    "        reward_fn: A numpy ndarray of shape (num_states, num_actions, num_states)\n",
    "            denoting the reward of R(s, a, s').\n",
    "        gamma: Discount factor.\n",
    "\n",
    "    Returns:\n",
    "        optimal_policy: A numpy ndarray of shape (num_states, num_actions) denoting\n",
    "            the probability of selecting an action (a) in a given state (s).\n",
    "    \"\"\"\n",
    "\n",
    "    # Ensure input dimensions are consistent.\n",
    "    num_states, num_actions, _ = transition_fn.shape\n",
    "    assert_equal(num_states, transition_fn.shape[2])\n",
    "    assert_equal(reward_fn.shape, transition_fn.shape)\n",
    "\n",
    "    # Initialize policy\n",
    "    policy = np.zeros(shape=(num_states, num_actions))\n",
    "\n",
    "    # Perform policy iteration to compute optimal V\n",
    "    num_iteration = 0\n",
    "    while True:\n",
    "        delta = 0\n",
    "\n",
    "        # Policy Evaluation\n",
    "        q_value = policy_evaluation_q(policy, transition_fn, reward_fn, gamma)\n",
    "                \n",
    "        # Policy Improvement\n",
    "        updated_policy = np.zeros((num_states,num_actions))\n",
    "        for s in range(num_states):\n",
    "            best_action = q_value[s].argmax()\n",
    "            updated_policy[s,best_action] = 1\n",
    "\n",
    "            num_iteration += 1\n",
    "        # Termination Condition\n",
    "        if np.array_equal(updated_policy, policy):\n",
    "            break\n",
    "        else:\n",
    "            policy = updated_policy.copy()\n",
    "\n",
    "    optimal_policy = policy.copy()\n",
    "    optimal_v_value = policy_evaluation_v(policy, transition_fn, reward_fn, gamma)\n",
    "\n",
    "    return (optimal_policy, optimal_v_value)\n",
    "    "
   ]
  },
  {
   "cell_type": "markdown",
   "id": "042f4fe3",
   "metadata": {
    "id": "042f4fe3"
   },
   "source": [
    "#### Test Code"
   ]
  },
  {
   "cell_type": "code",
   "execution_count": 38,
   "id": "7e8a400c",
   "metadata": {
    "id": "7e8a400c"
   },
   "outputs": [],
   "source": [
    "def test_policy_iteration(test_v_value, transition_fn, reward_fn, gamma):\n",
    "    \"\"\"Test code for policy iteration.\"\"\"\n",
    "    _, optimal_v_value = policy_iteration(transition_fn, reward_fn, gamma)\n",
    "    try:\n",
    "        assert_almost_equal(test_v_value, optimal_v_value, decimal=2)\n",
    "    except AssertionError:\n",
    "        print(\"The optimal V value for gamma = \" + str(gamma) + \" is incorrect.\")\n",
    "    else:\n",
    "        print(\"The optimal V value for gamma = \" + str(gamma) + \" is correct.\")\n",
    "  \n",
    "       "
   ]
  },
  {
   "cell_type": "code",
   "execution_count": 39,
   "id": "792d9b04",
   "metadata": {
    "id": "792d9b04"
   },
   "outputs": [
    {
     "name": "stdout",
     "output_type": "stream",
     "text": [
      "The optimal V value for gamma = 0.0 is correct.\n"
     ]
    }
   ],
   "source": [
    "test_v_value_for_gamma_000 = np.array(\n",
    "     [0.       ,0.       ,0.       ,0.      ,\n",
    "      0.       ,0.       ,0.       ,0.      ,\n",
    "      0.       ,0.       ,0.       ,0.      ,\n",
    "      0.       ,0.       ,0.333333 ,0.      ])\n",
    "test_policy_iteration(test_v_value_for_gamma_000, transition_fn, reward_fn, gamma=0.0)"
   ]
  },
  {
   "cell_type": "code",
   "execution_count": 40,
   "id": "ac03f27c",
   "metadata": {
    "id": "ac03f27c"
   },
   "outputs": [
    {
     "name": "stdout",
     "output_type": "stream",
     "text": [
      "The optimal V value for gamma = 0.9 is correct.\n"
     ]
    }
   ],
   "source": [
    "test_v_value_for_gamma_090 = np.array(\n",
    "    [0.068886 ,0.061411 ,0.074408 ,0.055805,\n",
    "     0.091851 ,0.       ,0.112207 ,0.      ,\n",
    "     0.145434 ,0.247496 ,0.299617 ,0.      ,\n",
    "     0.       ,0.379935 ,0.63902  ,0.      ])\n",
    "test_policy_iteration(test_v_value_for_gamma_090, transition_fn, reward_fn, gamma=0.9)"
   ]
  },
  {
   "cell_type": "code",
   "execution_count": 41,
   "id": "be4f7840",
   "metadata": {
    "id": "be4f7840",
    "scrolled": true
   },
   "outputs": [
    {
     "name": "stdout",
     "output_type": "stream",
     "text": [
      "The optimal V value for gamma = 0.0 is correct.\n",
      "The optimal V value for gamma = 0.9 is correct.\n"
     ]
    }
   ],
   "source": [
    "test_policy_iteration(test_v_value_for_gamma_000, transition_fn, reward_fn, gamma=0.0)\n",
    "test_policy_iteration(test_v_value_for_gamma_090, transition_fn, reward_fn, gamma=0.9)"
   ]
  },
  {
   "cell_type": "code",
   "execution_count": 42,
   "id": "a16c00d7",
   "metadata": {
    "id": "a16c00d7"
   },
   "outputs": [
    {
     "data": {
      "image/png": "[encoded data removed]",
      "text/plain": [
       "<Figure size 1000x1000 with 1 Axes>"
      ]
     },
     "metadata": {},
     "output_type": "display_data"
    }
   ],
   "source": [
    "def plot_grader_policy_iteration():\n",
    "    grader_optimal_policy, grader_optimal_v_value= policy_iteration(transition_fn, reward_fn, gamma=0.99)\n",
    "\n",
    "    fig, ax = plt.subplots()\n",
    "    im = ax.imshow(grader_optimal_v_value.reshape((1, num_states)), cmap=\"viridis\")\n",
    "\n",
    "    ax.set_xticks(np.arange(num_states))\n",
    "\n",
    "    for s in range(num_states):\n",
    "        text = ax.text(s, 0, round(grader_optimal_v_value[s],3), ha=\"center\", va=\"center\", color=\"w\", fontsize=10)\n",
    "\n",
    "    ax.set_title('V Value of Optimal Policy')\n",
    "    fig.set_size_inches(10., 10.)\n",
    "    fig.tight_layout()\n",
    "    plt.xlabel('State')\n",
    "    plt.ylabel('Value')\n",
    "    plt.show()\n",
    "\n",
    "plot_grader_policy_iteration()"
   ]
  },
  {
   "cell_type": "code",
   "execution_count": null,
   "id": "c2322cfb",
   "metadata": {},
   "outputs": [],
   "source": []
  }
 ],
 "metadata": {
  "colab": {
   "provenance": []
  },
  "kernelspec": {
   "display_name": "Python 3 (ipykernel)",
   "language": "python",
   "name": "python3"
  },
  "language_info": {
   "codemirror_mode": {
    "name": "ipython",
    "version": 3
   },
   "file_extension": ".py",
   "mimetype": "text/x-python",
   "name": "python",
   "nbconvert_exporter": "python",
   "pygments_lexer": "ipython3",
   "version": "3.11.4"
  }
 },
 "nbformat": 4,
 "nbformat_minor": 5
}
